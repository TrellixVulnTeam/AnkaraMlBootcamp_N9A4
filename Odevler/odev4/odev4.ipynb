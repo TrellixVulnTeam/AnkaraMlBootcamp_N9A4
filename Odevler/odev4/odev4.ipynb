{
 "cells": [
  {
   "cell_type": "code",
   "execution_count": 1,
   "metadata": {
    "pycharm": {
     "is_executing": false
    }
   },
   "outputs": [],
   "source": [
    "import pandas as pd\n",
    "import numpy as np\n",
    "import matplotlib.pyplot as plt\n",
    "import seaborn as sns\n",
    "from sklearn.model_selection import train_test_split, cross_val_score, cross_val_predict\n",
    "import statsmodels.api as sm\n",
    "from sklearn.metrics import confusion_matrix, accuracy_score, classification_report\n",
    "from sklearn.metrics import roc_auc_score,roc_curve"
   ]
  },
  {
   "cell_type": "code",
   "execution_count": 2,
   "metadata": {},
   "outputs": [
    {
     "name": "stdout",
     "output_type": "stream",
     "text": [
      "<class 'pandas.core.frame.DataFrame'>\n",
      "Int64Index: 2018 entries, 153 to 3549\n",
      "Data columns (total 13 columns):\n",
      "bad        2018 non-null int64\n",
      "loan       2018 non-null int64\n",
      "mortdue    2018 non-null float64\n",
      "value      2018 non-null float64\n",
      "reason     2018 non-null object\n",
      "job        2018 non-null object\n",
      "yoj        2018 non-null float64\n",
      "derog      2018 non-null float64\n",
      "delinq     2018 non-null float64\n",
      "clage      2018 non-null float64\n",
      "ninq       2018 non-null float64\n",
      "clno       2018 non-null float64\n",
      "debtinc    2018 non-null float64\n",
      "dtypes: float64(9), int64(2), object(2)\n",
      "memory usage: 220.7+ KB\n"
     ]
    }
   ],
   "source": [
    "data=pd.read_csv('../dataset/hmelq.csv')\n",
    "df=data.copy() #data kopyalandı\n",
    "df.dropna(inplace=True)# null veriler silindi\n",
    "df.info()"
   ]
  },
  {
   "cell_type": "code",
   "execution_count": 3,
   "metadata": {
    "pycharm": {
     "is_executing": false,
     "name": "#%%\n"
    }
   },
   "outputs": [
    {
     "data": {
      "text/html": [
       "<div>\n",
       "<style scoped>\n",
       "    .dataframe tbody tr th:only-of-type {\n",
       "        vertical-align: middle;\n",
       "    }\n",
       "\n",
       "    .dataframe tbody tr th {\n",
       "        vertical-align: top;\n",
       "    }\n",
       "\n",
       "    .dataframe thead th {\n",
       "        text-align: right;\n",
       "    }\n",
       "</style>\n",
       "<table border=\"1\" class=\"dataframe\">\n",
       "  <thead>\n",
       "    <tr style=\"text-align: right;\">\n",
       "      <th></th>\n",
       "      <th>loan</th>\n",
       "      <th>mortdue</th>\n",
       "      <th>value</th>\n",
       "      <th>yoj</th>\n",
       "      <th>derog</th>\n",
       "      <th>delinq</th>\n",
       "      <th>clage</th>\n",
       "      <th>ninq</th>\n",
       "      <th>clno</th>\n",
       "      <th>debtinc</th>\n",
       "    </tr>\n",
       "  </thead>\n",
       "  <tbody>\n",
       "    <tr>\n",
       "      <td>153</td>\n",
       "      <td>18200.0</td>\n",
       "      <td>94727.0</td>\n",
       "      <td>136877.0</td>\n",
       "      <td>15.0</td>\n",
       "      <td>0.0</td>\n",
       "      <td>0.0</td>\n",
       "      <td>168.96</td>\n",
       "      <td>2.0</td>\n",
       "      <td>26.0</td>\n",
       "      <td>36.056</td>\n",
       "    </tr>\n",
       "    <tr>\n",
       "      <td>154</td>\n",
       "      <td>21700.0</td>\n",
       "      <td>79240.0</td>\n",
       "      <td>96784.0</td>\n",
       "      <td>5.0</td>\n",
       "      <td>0.0</td>\n",
       "      <td>0.0</td>\n",
       "      <td>64.51</td>\n",
       "      <td>6.0</td>\n",
       "      <td>24.0</td>\n",
       "      <td>38.079</td>\n",
       "    </tr>\n",
       "    <tr>\n",
       "      <td>155</td>\n",
       "      <td>34100.0</td>\n",
       "      <td>241931.0</td>\n",
       "      <td>36486.0</td>\n",
       "      <td>1.0</td>\n",
       "      <td>0.0</td>\n",
       "      <td>2.0</td>\n",
       "      <td>196.01</td>\n",
       "      <td>3.0</td>\n",
       "      <td>50.0</td>\n",
       "      <td>42.459</td>\n",
       "    </tr>\n",
       "    <tr>\n",
       "      <td>156</td>\n",
       "      <td>8400.0</td>\n",
       "      <td>62989.0</td>\n",
       "      <td>76718.0</td>\n",
       "      <td>3.0</td>\n",
       "      <td>0.0</td>\n",
       "      <td>2.0</td>\n",
       "      <td>131.47</td>\n",
       "      <td>0.0</td>\n",
       "      <td>22.0</td>\n",
       "      <td>29.200</td>\n",
       "    </tr>\n",
       "    <tr>\n",
       "      <td>157</td>\n",
       "      <td>17400.0</td>\n",
       "      <td>25859.0</td>\n",
       "      <td>43684.0</td>\n",
       "      <td>16.0</td>\n",
       "      <td>1.0</td>\n",
       "      <td>0.0</td>\n",
       "      <td>95.36</td>\n",
       "      <td>1.0</td>\n",
       "      <td>17.0</td>\n",
       "      <td>27.108</td>\n",
       "    </tr>\n",
       "  </tbody>\n",
       "</table>\n",
       "</div>"
      ],
      "text/plain": [
       "        loan   mortdue     value   yoj  derog  delinq   clage  ninq  clno  \\\n",
       "153  18200.0   94727.0  136877.0  15.0    0.0     0.0  168.96   2.0  26.0   \n",
       "154  21700.0   79240.0   96784.0   5.0    0.0     0.0   64.51   6.0  24.0   \n",
       "155  34100.0  241931.0   36486.0   1.0    0.0     2.0  196.01   3.0  50.0   \n",
       "156   8400.0   62989.0   76718.0   3.0    0.0     2.0  131.47   0.0  22.0   \n",
       "157  17400.0   25859.0   43684.0  16.0    1.0     0.0   95.36   1.0  17.0   \n",
       "\n",
       "     debtinc  \n",
       "153   36.056  \n",
       "154   38.079  \n",
       "155   42.459  \n",
       "156   29.200  \n",
       "157   27.108  "
      ]
     },
     "execution_count": 3,
     "metadata": {},
     "output_type": "execute_result"
    }
   ],
   "source": [
    "y=df[\"bad\"]\n",
    "X= df.drop([\"reason\", \"job\", \"bad\"], axis=1).astype(\"float64\")#verileri cıkardık\n",
    "X.head()"
   ]
  },
  {
   "cell_type": "code",
   "execution_count": 4,
   "metadata": {},
   "outputs": [],
   "source": [
    "X_train, X_test, y_train, y_test = train_test_split(X, y, test_size=0.3,random_state=42)"
   ]
  },
  {
   "cell_type": "code",
   "execution_count": 5,
   "metadata": {
    "scrolled": true
   },
   "outputs": [
    {
     "name": "stdout",
     "output_type": "stream",
     "text": [
      "Optimization terminated successfully.\n",
      "         Current function value: 0.269478\n",
      "         Iterations 7\n"
     ]
    },
    {
     "data": {
      "text/html": [
       "<table class=\"simpletable\">\n",
       "<caption>Logit Regression Results</caption>\n",
       "<tr>\n",
       "  <th>Dep. Variable:</th>          <td>bad</td>       <th>  No. Observations:  </th>  <td>  1412</td>  \n",
       "</tr>\n",
       "<tr>\n",
       "  <th>Model:</th>                 <td>Logit</td>      <th>  Df Residuals:      </th>  <td>  1402</td>  \n",
       "</tr>\n",
       "<tr>\n",
       "  <th>Method:</th>                 <td>MLE</td>       <th>  Df Model:          </th>  <td>     9</td>  \n",
       "</tr>\n",
       "<tr>\n",
       "  <th>Date:</th>            <td>Thu, 26 Sep 2019</td> <th>  Pseudo R-squ.:     </th>  <td>0.1040</td>  \n",
       "</tr>\n",
       "<tr>\n",
       "  <th>Time:</th>                <td>12:25:25</td>     <th>  Log-Likelihood:    </th> <td> -380.50</td> \n",
       "</tr>\n",
       "<tr>\n",
       "  <th>converged:</th>             <td>True</td>       <th>  LL-Null:           </th> <td> -424.68</td> \n",
       "</tr>\n",
       "<tr>\n",
       "  <th>Covariance Type:</th>     <td>nonrobust</td>    <th>  LLR p-value:       </th> <td>3.482e-15</td>\n",
       "</tr>\n",
       "</table>\n",
       "<table class=\"simpletable\">\n",
       "<tr>\n",
       "     <td></td>        <th>coef</th>     <th>std err</th>      <th>z</th>      <th>P>|z|</th>  <th>[0.025</th>    <th>0.975]</th>  \n",
       "</tr>\n",
       "<tr>\n",
       "  <th>loan</th>    <td>-3.059e-05</td> <td> 1.24e-05</td> <td>   -2.466</td> <td> 0.014</td> <td>-5.49e-05</td> <td>-6.28e-06</td>\n",
       "</tr>\n",
       "<tr>\n",
       "  <th>mortdue</th> <td>  4.08e-06</td> <td> 5.24e-06</td> <td>    0.778</td> <td> 0.437</td> <td> -6.2e-06</td> <td> 1.44e-05</td>\n",
       "</tr>\n",
       "<tr>\n",
       "  <th>value</th>   <td>-2.037e-06</td> <td>  4.3e-06</td> <td>   -0.473</td> <td> 0.636</td> <td>-1.05e-05</td> <td>  6.4e-06</td>\n",
       "</tr>\n",
       "<tr>\n",
       "  <th>yoj</th>     <td>   -0.0421</td> <td>    0.015</td> <td>   -2.792</td> <td> 0.005</td> <td>   -0.072</td> <td>   -0.013</td>\n",
       "</tr>\n",
       "<tr>\n",
       "  <th>derog</th>   <td>    0.5465</td> <td>    0.149</td> <td>    3.667</td> <td> 0.000</td> <td>    0.254</td> <td>    0.839</td>\n",
       "</tr>\n",
       "<tr>\n",
       "  <th>delinq</th>  <td>    0.8033</td> <td>    0.103</td> <td>    7.814</td> <td> 0.000</td> <td>    0.602</td> <td>    1.005</td>\n",
       "</tr>\n",
       "<tr>\n",
       "  <th>clage</th>   <td>   -0.0076</td> <td>    0.002</td> <td>   -4.908</td> <td> 0.000</td> <td>   -0.011</td> <td>   -0.005</td>\n",
       "</tr>\n",
       "<tr>\n",
       "  <th>ninq</th>    <td>    0.0299</td> <td>    0.053</td> <td>    0.565</td> <td> 0.572</td> <td>   -0.074</td> <td>    0.134</td>\n",
       "</tr>\n",
       "<tr>\n",
       "  <th>clno</th>    <td>   -0.0500</td> <td>    0.013</td> <td>   -3.980</td> <td> 0.000</td> <td>   -0.075</td> <td>   -0.025</td>\n",
       "</tr>\n",
       "<tr>\n",
       "  <th>debtinc</th> <td>    0.0108</td> <td>    0.008</td> <td>    1.313</td> <td> 0.189</td> <td>   -0.005</td> <td>    0.027</td>\n",
       "</tr>\n",
       "</table>"
      ],
      "text/plain": [
       "<class 'statsmodels.iolib.summary.Summary'>\n",
       "\"\"\"\n",
       "                           Logit Regression Results                           \n",
       "==============================================================================\n",
       "Dep. Variable:                    bad   No. Observations:                 1412\n",
       "Model:                          Logit   Df Residuals:                     1402\n",
       "Method:                           MLE   Df Model:                            9\n",
       "Date:                Thu, 26 Sep 2019   Pseudo R-squ.:                  0.1040\n",
       "Time:                        12:25:25   Log-Likelihood:                -380.50\n",
       "converged:                       True   LL-Null:                       -424.68\n",
       "Covariance Type:            nonrobust   LLR p-value:                 3.482e-15\n",
       "==============================================================================\n",
       "                 coef    std err          z      P>|z|      [0.025      0.975]\n",
       "------------------------------------------------------------------------------\n",
       "loan       -3.059e-05   1.24e-05     -2.466      0.014   -5.49e-05   -6.28e-06\n",
       "mortdue      4.08e-06   5.24e-06      0.778      0.437    -6.2e-06    1.44e-05\n",
       "value      -2.037e-06    4.3e-06     -0.473      0.636   -1.05e-05     6.4e-06\n",
       "yoj           -0.0421      0.015     -2.792      0.005      -0.072      -0.013\n",
       "derog          0.5465      0.149      3.667      0.000       0.254       0.839\n",
       "delinq         0.8033      0.103      7.814      0.000       0.602       1.005\n",
       "clage         -0.0076      0.002     -4.908      0.000      -0.011      -0.005\n",
       "ninq           0.0299      0.053      0.565      0.572      -0.074       0.134\n",
       "clno          -0.0500      0.013     -3.980      0.000      -0.075      -0.025\n",
       "debtinc        0.0108      0.008      1.313      0.189      -0.005       0.027\n",
       "==============================================================================\n",
       "\"\"\""
      ]
     },
     "execution_count": 5,
     "metadata": {},
     "output_type": "execute_result"
    }
   ],
   "source": [
    "#stats models ile datamızı eğittik\n",
    "#istatistiksel test\n",
    "loj = sm.Logit(y_train,X_train).fit()\n",
    "loj.summary()"
   ]
  },
  {
   "cell_type": "code",
   "execution_count": 6,
   "metadata": {},
   "outputs": [],
   "source": [
    "from sklearn.linear_model import LogisticRegression\n",
    "loj = LogisticRegression(solver = \"liblinear\") \n",
    "loj_model= loj.fit(X_train,y_train)"
   ]
  },
  {
   "cell_type": "code",
   "execution_count": 7,
   "metadata": {},
   "outputs": [
    {
     "data": {
      "text/plain": [
       "0.9125412541254125"
      ]
     },
     "execution_count": 7,
     "metadata": {},
     "output_type": "execute_result"
    }
   ],
   "source": [
    "y_pred=loj_model.predict(X_test)\n",
    "accuracy_score(y_test, y_pred)"
   ]
  },
  {
   "cell_type": "code",
   "execution_count": 8,
   "metadata": {},
   "outputs": [
    {
     "name": "stdout",
     "output_type": "stream",
     "text": [
      "              precision    recall  f1-score   support\n",
      "\n",
      "           0       0.91      1.00      0.95       554\n",
      "           1       0.00      0.00      0.00        52\n",
      "\n",
      "    accuracy                           0.91       606\n",
      "   macro avg       0.46      0.50      0.48       606\n",
      "weighted avg       0.84      0.91      0.87       606\n",
      "\n"
     ]
    }
   ],
   "source": [
    "print(classification_report(y_test, y_pred))"
   ]
  },
  {
   "cell_type": "code",
   "execution_count": 9,
   "metadata": {},
   "outputs": [
    {
     "data": {
      "image/png": "[encoded data removed]",
      "text/plain": [
       "<Figure size 432x288 with 1 Axes>"
      ]
     },
     "metadata": {
      "needs_background": "light"
     },
     "output_type": "display_data"
    }
   ],
   "source": [
    "plt.scatter(y_test,y_pred)\n",
    "plt.xlabel(\"Dogru degerler\")\n",
    "plt.ylabel(\"Tahmin\")\n",
    "plt.show()"
   ]
  },
  {
   "cell_type": "code",
   "execution_count": 10,
   "metadata": {},
   "outputs": [
    {
     "data": {
      "image/png": "[encoded data removed]",
      "text/plain": [
       "<Figure size 432x288 with 1 Axes>"
      ]
     },
     "metadata": {
      "needs_background": "light"
     },
     "output_type": "display_data"
    }
   ],
   "source": [
    "logit_roc_auc = roc_auc_score(y_test, loj_model.predict(X_test))\n",
    "fpr, tpr, thresholds = roc_curve(y_test, loj_model.predict_proba(X_test)[:,1])\n",
    "plt.figure()\n",
    "plt.plot(fpr, tpr, label='AUC (area = %0.2f)' % logit_roc_auc)\n",
    "plt.plot([0,1], [0,1], 'r--')\n",
    "plt.xlim([0.0, 1.0])\n",
    "plt.xlim([0.0,1.05])\n",
    "plt.xlabel('False Positive Oranı')\n",
    "plt.ylabel('True Positive Oranı')\n",
    "plt.title('ROC')\n",
    "plt.show()"
   ]
  }
 ],
 "metadata": {
  "kernelspec": {
   "display_name": "Python 3",
   "language": "python",
   "name": "python3"
  },
  "language_info": {
   "codemirror_mode": {
    "name": "ipython",
    "version": 3
   },
   "file_extension": ".py",
   "mimetype": "text/x-python",
   "name": "python",
   "nbconvert_exporter": "python",
   "pygments_lexer": "ipython3",
   "version": "3.7.3"
  },
  "pycharm": {
   "stem_cell": {
    "cell_type": "raw",
    "metadata": {
     "collapsed": false
    },
    "source": []
   }
  }
 },
 "nbformat": 4,
 "nbformat_minor": 1
}
