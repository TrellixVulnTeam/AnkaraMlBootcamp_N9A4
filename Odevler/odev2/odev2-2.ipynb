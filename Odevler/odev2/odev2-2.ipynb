{
 "cells": [
  {
   "cell_type": "code",
   "execution_count": 10,
   "metadata": {
    "pycharm": {
     "is_executing": false
    }
   },
   "outputs": [
    {
     "data": {
      "text/plain": "   bad   loan   mortdue     value   reason  job   yoj  derog  delinq   clage  \\\n0    0  81200   18834.0  108355.0  HomeImp  NaN  28.0    0.0     0.0  139.14   \n1    0  12600  103960.0  127384.0  DebtCon  NaN   2.0    0.0     0.0  129.02   \n2    0  18000   46865.0   61266.0  DebtCon  NaN   5.0    0.0     0.0  102.59   \n3    0  10300   57676.0   71027.0  DebtCon  NaN  19.0    0.0     0.0  157.52   \n4    0   9400   56508.0   78358.0  DebtCon  NaN  17.0    0.0     0.0  141.93   \n\n   ninq  clno  debtinc  \n0   0.0  14.0   34.042  \n1   0.0  25.0   34.479  \n2   2.0   9.0   26.354  \n3   1.0  11.0   33.992  \n4   0.0  11.0   32.327  ",
      "text/html": "<div>\n<style scoped>\n    .dataframe tbody tr th:only-of-type {\n        vertical-align: middle;\n    }\n\n    .dataframe tbody tr th {\n        vertical-align: top;\n    }\n\n    .dataframe thead th {\n        text-align: right;\n    }\n</style>\n<table border=\"1\" class=\"dataframe\">\n  <thead>\n    <tr style=\"text-align: right;\">\n      <th></th>\n      <th>bad</th>\n      <th>loan</th>\n      <th>mortdue</th>\n      <th>value</th>\n      <th>reason</th>\n      <th>job</th>\n      <th>yoj</th>\n      <th>derog</th>\n      <th>delinq</th>\n      <th>clage</th>\n      <th>ninq</th>\n      <th>clno</th>\n      <th>debtinc</th>\n    </tr>\n  </thead>\n  <tbody>\n    <tr>\n      <td>0</td>\n      <td>0</td>\n      <td>81200</td>\n      <td>18834.0</td>\n      <td>108355.0</td>\n      <td>HomeImp</td>\n      <td>NaN</td>\n      <td>28.0</td>\n      <td>0.0</td>\n      <td>0.0</td>\n      <td>139.14</td>\n      <td>0.0</td>\n      <td>14.0</td>\n      <td>34.042</td>\n    </tr>\n    <tr>\n      <td>1</td>\n      <td>0</td>\n      <td>12600</td>\n      <td>103960.0</td>\n      <td>127384.0</td>\n      <td>DebtCon</td>\n      <td>NaN</td>\n      <td>2.0</td>\n      <td>0.0</td>\n      <td>0.0</td>\n      <td>129.02</td>\n      <td>0.0</td>\n      <td>25.0</td>\n      <td>34.479</td>\n    </tr>\n    <tr>\n      <td>2</td>\n      <td>0</td>\n      <td>18000</td>\n      <td>46865.0</td>\n      <td>61266.0</td>\n      <td>DebtCon</td>\n      <td>NaN</td>\n      <td>5.0</td>\n      <td>0.0</td>\n      <td>0.0</td>\n      <td>102.59</td>\n      <td>2.0</td>\n      <td>9.0</td>\n      <td>26.354</td>\n    </tr>\n    <tr>\n      <td>3</td>\n      <td>0</td>\n      <td>10300</td>\n      <td>57676.0</td>\n      <td>71027.0</td>\n      <td>DebtCon</td>\n      <td>NaN</td>\n      <td>19.0</td>\n      <td>0.0</td>\n      <td>0.0</td>\n      <td>157.52</td>\n      <td>1.0</td>\n      <td>11.0</td>\n      <td>33.992</td>\n    </tr>\n    <tr>\n      <td>4</td>\n      <td>0</td>\n      <td>9400</td>\n      <td>56508.0</td>\n      <td>78358.0</td>\n      <td>DebtCon</td>\n      <td>NaN</td>\n      <td>17.0</td>\n      <td>0.0</td>\n      <td>0.0</td>\n      <td>141.93</td>\n      <td>0.0</td>\n      <td>11.0</td>\n      <td>32.327</td>\n    </tr>\n  </tbody>\n</table>\n</div>"
     },
     "metadata": {},
     "output_type": "execute_result",
     "execution_count": 10
    }
   ],
   "source": [
    "import pandas as pd\n",
    "data=pd.read_csv('../dataset/hmelq.csv')\n",
    "data.head()"
   ]
  },
  {
   "cell_type": "code",
   "execution_count": 11,
   "metadata": {
    "pycharm": {
     "is_executing": false
    }
   },
   "outputs": [
    {
     "name": "stdout",
     "text": [
      "True\n"
     ],
     "output_type": "stream"
    },
    {
     "data": {
      "text/plain": "        bad   loan  mortdue  value  reason    job    yoj  derog  delinq  \\\n0     False  False    False  False   False   True  False  False   False   \n1     False  False    False  False   False   True  False  False   False   \n2     False  False    False  False   False   True  False  False   False   \n3     False  False    False  False   False   True  False  False   False   \n4     False  False    False  False   False   True  False  False   False   \n...     ...    ...      ...    ...     ...    ...    ...    ...     ...   \n3571  False  False    False  False   False  False   True  False   False   \n3572  False  False    False   True   False  False   True  False   False   \n3573  False  False    False   True   False  False  False  False   False   \n3574  False  False     True  False   False  False  False  False   False   \n3575  False  False     True  False   False  False  False  False   False   \n\n      clage   ninq   clno  debtinc  \n0     False  False  False    False  \n1     False  False  False    False  \n2     False  False  False    False  \n3     False  False  False    False  \n4     False  False  False    False  \n...     ...    ...    ...      ...  \n3571  False  False  False     True  \n3572  False  False  False    False  \n3573  False  False  False     True  \n3574  False  False  False     True  \n3575  False  False  False     True  \n\n[3576 rows x 13 columns]",
      "text/html": "<div>\n<style scoped>\n    .dataframe tbody tr th:only-of-type {\n        vertical-align: middle;\n    }\n\n    .dataframe tbody tr th {\n        vertical-align: top;\n    }\n\n    .dataframe thead th {\n        text-align: right;\n    }\n</style>\n<table border=\"1\" class=\"dataframe\">\n  <thead>\n    <tr style=\"text-align: right;\">\n      <th></th>\n      <th>bad</th>\n      <th>loan</th>\n      <th>mortdue</th>\n      <th>value</th>\n      <th>reason</th>\n      <th>job</th>\n      <th>yoj</th>\n      <th>derog</th>\n      <th>delinq</th>\n      <th>clage</th>\n      <th>ninq</th>\n      <th>clno</th>\n      <th>debtinc</th>\n    </tr>\n  </thead>\n  <tbody>\n    <tr>\n      <td>0</td>\n      <td>False</td>\n      <td>False</td>\n      <td>False</td>\n      <td>False</td>\n      <td>False</td>\n      <td>True</td>\n      <td>False</td>\n      <td>False</td>\n      <td>False</td>\n      <td>False</td>\n      <td>False</td>\n      <td>False</td>\n      <td>False</td>\n    </tr>\n    <tr>\n      <td>1</td>\n      <td>False</td>\n      <td>False</td>\n      <td>False</td>\n      <td>False</td>\n      <td>False</td>\n      <td>True</td>\n      <td>False</td>\n      <td>False</td>\n      <td>False</td>\n      <td>False</td>\n      <td>False</td>\n      <td>False</td>\n      <td>False</td>\n    </tr>\n    <tr>\n      <td>2</td>\n      <td>False</td>\n      <td>False</td>\n      <td>False</td>\n      <td>False</td>\n      <td>False</td>\n      <td>True</td>\n      <td>False</td>\n      <td>False</td>\n      <td>False</td>\n      <td>False</td>\n      <td>False</td>\n      <td>False</td>\n      <td>False</td>\n    </tr>\n    <tr>\n      <td>3</td>\n      <td>False</td>\n      <td>False</td>\n      <td>False</td>\n      <td>False</td>\n      <td>False</td>\n      <td>True</td>\n      <td>False</td>\n      <td>False</td>\n      <td>False</td>\n      <td>False</td>\n      <td>False</td>\n      <td>False</td>\n      <td>False</td>\n    </tr>\n    <tr>\n      <td>4</td>\n      <td>False</td>\n      <td>False</td>\n      <td>False</td>\n      <td>False</td>\n      <td>False</td>\n      <td>True</td>\n      <td>False</td>\n      <td>False</td>\n      <td>False</td>\n      <td>False</td>\n      <td>False</td>\n      <td>False</td>\n      <td>False</td>\n    </tr>\n    <tr>\n      <td>...</td>\n      <td>...</td>\n      <td>...</td>\n      <td>...</td>\n      <td>...</td>\n      <td>...</td>\n      <td>...</td>\n      <td>...</td>\n      <td>...</td>\n      <td>...</td>\n      <td>...</td>\n      <td>...</td>\n      <td>...</td>\n      <td>...</td>\n    </tr>\n    <tr>\n      <td>3571</td>\n      <td>False</td>\n      <td>False</td>\n      <td>False</td>\n      <td>False</td>\n      <td>False</td>\n      <td>False</td>\n      <td>True</td>\n      <td>False</td>\n      <td>False</td>\n      <td>False</td>\n      <td>False</td>\n      <td>False</td>\n      <td>True</td>\n    </tr>\n    <tr>\n      <td>3572</td>\n      <td>False</td>\n      <td>False</td>\n      <td>False</td>\n      <td>True</td>\n      <td>False</td>\n      <td>False</td>\n      <td>True</td>\n      <td>False</td>\n      <td>False</td>\n      <td>False</td>\n      <td>False</td>\n      <td>False</td>\n      <td>False</td>\n    </tr>\n    <tr>\n      <td>3573</td>\n      <td>False</td>\n      <td>False</td>\n      <td>False</td>\n      <td>True</td>\n      <td>False</td>\n      <td>False</td>\n      <td>False</td>\n      <td>False</td>\n      <td>False</td>\n      <td>False</td>\n      <td>False</td>\n      <td>False</td>\n      <td>True</td>\n    </tr>\n    <tr>\n      <td>3574</td>\n      <td>False</td>\n      <td>False</td>\n      <td>True</td>\n      <td>False</td>\n      <td>False</td>\n      <td>False</td>\n      <td>False</td>\n      <td>False</td>\n      <td>False</td>\n      <td>False</td>\n      <td>False</td>\n      <td>False</td>\n      <td>True</td>\n    </tr>\n    <tr>\n      <td>3575</td>\n      <td>False</td>\n      <td>False</td>\n      <td>True</td>\n      <td>False</td>\n      <td>False</td>\n      <td>False</td>\n      <td>False</td>\n      <td>False</td>\n      <td>False</td>\n      <td>False</td>\n      <td>False</td>\n      <td>False</td>\n      <td>True</td>\n    </tr>\n  </tbody>\n</table>\n<p>3576 rows × 13 columns</p>\n</div>"
     },
     "metadata": {},
     "output_type": "execute_result",
     "execution_count": 11
    }
   ],
   "source": [
    "print(data.isnull().values.any()) #null var mı yok mu\n",
    "data.isnull()#loan ve bad dışındakilerde null deger var"
   ]
  },
  {
   "cell_type": "code",
   "execution_count": 12,
   "metadata": {
    "pycharm": {
     "is_executing": false,
     "name": "#%%\n"
    }
   },
   "outputs": [
    {
     "data": {
      "text/plain": "Index(['bad', 'loan', 'mortdue', 'value', 'reason', 'job', 'yoj', 'derog',\n       'delinq', 'clage', 'ninq', 'clno', 'debtinc'],\n      dtype='object')"
     },
     "metadata": {},
     "output_type": "execute_result",
     "execution_count": 12
    }
   ],
   "source": [
    "#Columnlari columns_list atandi\n",
    "columns_list=[]\n",
    "columns_list=data.columns\n",
    "columns_list"
   ]
  },
  {
   "cell_type": "code",
   "execution_count": 13,
   "metadata": {
    "pycharm": {
     "is_executing": false
    }
   },
   "outputs": [
    {
     "data": {
      "text/plain": "array([0, 1])"
     },
     "metadata": {},
     "output_type": "execute_result",
     "execution_count": 13
    }
   ],
   "source": [
    "bad_value=pd.unique(data.bad.values)\n",
    "bad_value # bad value degerleri"
   ]
  },
  {
   "cell_type": "code",
   "execution_count": 17,
   "metadata": {
    "pycharm": {
     "name": "#%%\n",
     "is_executing": false
    }
   },
   "outputs": [
    {
     "name": "stdout",
     "text": [
      "bad için:\nAlanı Veren Nokta = 0.489, p = 0.000\nÖrneklem Normal (Gaussian) dağılımdan gelmemektedir (Reject H0) \nloan için:\nAlanı Veren Nokta = 0.849, p = 0.000\nÖrneklem Normal (Gaussian) dağılımdan gelmemektedir (Reject H0) \nmortdue için:\nAlanı Veren Nokta = nan, p = 1.000\nÖrneklem Normal (Gaussian) dağılımdan gelmektedir (fail to Reject)\nvalue için:\nAlanı Veren Nokta = nan, p = 1.000\nÖrneklem Normal (Gaussian) dağılımdan gelmektedir (fail to Reject)\nyoj için:\nAlanı Veren Nokta = nan, p = 1.000\nÖrneklem Normal (Gaussian) dağılımdan gelmektedir (fail to Reject)\nderog için:\nAlanı Veren Nokta = nan, p = 1.000\nÖrneklem Normal (Gaussian) dağılımdan gelmektedir (fail to Reject)\ndelinq için:\nAlanı Veren Nokta = nan, p = 1.000\nÖrneklem Normal (Gaussian) dağılımdan gelmektedir (fail to Reject)\nclage için:\nAlanı Veren Nokta = nan, p = 1.000\nÖrneklem Normal (Gaussian) dağılımdan gelmektedir (fail to Reject)\nninq için:\nAlanı Veren Nokta = nan, p = 1.000\nÖrneklem Normal (Gaussian) dağılımdan gelmektedir (fail to Reject)\nclno için:\nAlanı Veren Nokta = nan, p = 1.000\nÖrneklem Normal (Gaussian) dağılımdan gelmektedir (fail to Reject)\ndebtinc için:\nAlanı Veren Nokta = nan, p = 1.000\nÖrneklem Normal (Gaussian) dağılımdan gelmektedir (fail to Reject)\n"
     ],
     "output_type": "stream"
    }
   ],
   "source": [
    "#Anova-shapiro test\n",
    "#Shapiro test-Normallik testi\n",
    "from scipy.stats import shapiro\n",
    "for i in range(len(data.columns)):\n",
    "    if data[columns_list[i]].dtype =='float64' or data[columns_list[i]].dtype=='int64':#sayisal veri control\n",
    "        stat, p = shapiro(data[columns_list[i]])\n",
    "        print(str(data.columns[i])+\" için:\")\n",
    "        print('Alanı Veren Nokta = %.3f, p = %.3f' % (stat,p))\n",
    "        #nan için nulları atınca düzeliyor.\n",
    "        alpha=0.05\n",
    "        if p> alpha:\n",
    "            print(\"Örneklem Normal (Gaussian) dağılımdan gelmektedir (fail to Reject)\")\n",
    "        else:\n",
    "            print(\"Örneklem Normal (Gaussian) dağılımdan gelmemektedir (Reject H0) \")"
   ]
  },
  {
   "cell_type": "code",
   "execution_count": 15,
   "metadata": {
    "pycharm": {
     "is_executing": false
    }
   },
   "outputs": [
    {
     "name": "stdout",
     "text": [
      "loan için: \nAlanı Veren Nokta = 3033.449, p = 0.000\nÖrneklem Normal (Gaussian) dağılımdan gelmemektedir (Reject H0) \nmortdue için: \nAlanı Veren Nokta = nan, p = nan\nÖrneklem Normal (Gaussian) dağılımdan gelmemektedir (Reject H0) \nvalue için: \nAlanı Veren Nokta = nan, p = nan\nÖrneklem Normal (Gaussian) dağılımdan gelmemektedir (Reject H0) \nyoj için: \nAlanı Veren Nokta = nan, p = nan\nÖrneklem Normal (Gaussian) dağılımdan gelmemektedir (Reject H0) \nderog için: \nAlanı Veren Nokta = nan, p = nan\nÖrneklem Normal (Gaussian) dağılımdan gelmemektedir (Reject H0) \ndelinq için: \nAlanı Veren Nokta = nan, p = nan\nÖrneklem Normal (Gaussian) dağılımdan gelmemektedir (Reject H0) \nclage için: \nAlanı Veren Nokta = nan, p = nan\nÖrneklem Normal (Gaussian) dağılımdan gelmemektedir (Reject H0) \nninq için: \nAlanı Veren Nokta = nan, p = nan\nÖrneklem Normal (Gaussian) dağılımdan gelmemektedir (Reject H0) \nclno için: \nAlanı Veren Nokta = nan, p = nan\nÖrneklem Normal (Gaussian) dağılımdan gelmemektedir (Reject H0) \ndebtinc için: \nAlanı Veren Nokta = nan, p = nan\nÖrneklem Normal (Gaussian) dağılımdan gelmemektedir (Reject H0) \n"
     ],
     "output_type": "stream"
    }
   ],
   "source": [
    "#levene test\n",
    "from scipy.stats import levene\n",
    "for i in range(1,len(data.columns)):\n",
    "    if data[columns_list[i]].dtype =='float64' or data[columns_list[i]].dtype=='int64':#sayisal veri control\n",
    "        stat, p = levene(data['bad'],data[columns_list[i]])\n",
    "        print(str(data.columns[i])+\" için: \")\n",
    "        print('Alanı Veren Nokta = %.3f, p = %.3f' % (stat,p))\n",
    "        #direk null columnları pass geçme nasıl olur ?\n",
    "        alpha=0.05\n",
    "        if p> alpha:\n",
    "            print(\"Örneklem Normal (Gaussian) dağılımdan gelmektedir (fail to Reject)\")\n",
    "        else:\n",
    "            print(\"Örneklem Normal (Gaussian) dağılımdan gelmemektedir (Reject H0) \")"
   ]
  },
  {
   "cell_type": "code",
   "execution_count": 16,
   "metadata": {
    "pycharm": {
     "is_executing": false
    }
   },
   "outputs": [
    {
     "data": {
      "text/plain": "F_onewayResult(statistic=9678.977358165106, pvalue=0.0)"
     },
     "metadata": {},
     "output_type": "execute_result",
     "execution_count": 16
    }
   ],
   "source": [
    "#oneway test\n",
    "from scipy.stats import f_oneway\n",
    "f_oneway(data['bad'],data['loan'])"
   ]
  }
 ],
 "metadata": {
  "kernelspec": {
   "display_name": "Python 3",
   "language": "python",
   "name": "python3"
  },
  "language_info": {
   "codemirror_mode": {
    "name": "ipython",
    "version": 3
   },
   "file_extension": ".py",
   "mimetype": "text/x-python",
   "name": "python",
   "nbconvert_exporter": "python",
   "pygments_lexer": "ipython3",
   "version": "3.7.3"
  },
  "pycharm": {
   "stem_cell": {
    "cell_type": "raw",
    "source": [],
    "metadata": {
     "collapsed": false
    }
   }
  }
 },
 "nbformat": 4,
 "nbformat_minor": 1
}