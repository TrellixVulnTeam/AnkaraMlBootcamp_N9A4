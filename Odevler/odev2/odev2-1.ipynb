{
 "cells": [
  {
   "cell_type": "code",
   "execution_count": 5,
   "metadata": {
    "pycharm": {
     "is_executing": false
    }
   },
   "outputs": [
    {
     "data": {
      "text/html": [
       "<div>\n",
       "<style scoped>\n",
       "    .dataframe tbody tr th:only-of-type {\n",
       "        vertical-align: middle;\n",
       "    }\n",
       "\n",
       "    .dataframe tbody tr th {\n",
       "        vertical-align: top;\n",
       "    }\n",
       "\n",
       "    .dataframe thead th {\n",
       "        text-align: right;\n",
       "    }\n",
       "</style>\n",
       "<table border=\"1\" class=\"dataframe\">\n",
       "  <thead>\n",
       "    <tr style=\"text-align: right;\">\n",
       "      <th></th>\n",
       "      <th>bad</th>\n",
       "      <th>loan</th>\n",
       "      <th>mortdue</th>\n",
       "      <th>value</th>\n",
       "      <th>reason</th>\n",
       "      <th>job</th>\n",
       "      <th>yoj</th>\n",
       "      <th>derog</th>\n",
       "      <th>delinq</th>\n",
       "      <th>clage</th>\n",
       "      <th>ninq</th>\n",
       "      <th>clno</th>\n",
       "      <th>debtinc</th>\n",
       "    </tr>\n",
       "  </thead>\n",
       "  <tbody>\n",
       "    <tr>\n",
       "      <td>0</td>\n",
       "      <td>0</td>\n",
       "      <td>81200</td>\n",
       "      <td>18834.0</td>\n",
       "      <td>108355.0</td>\n",
       "      <td>HomeImp</td>\n",
       "      <td>NaN</td>\n",
       "      <td>28.0</td>\n",
       "      <td>0.0</td>\n",
       "      <td>0.0</td>\n",
       "      <td>139.14</td>\n",
       "      <td>0.0</td>\n",
       "      <td>14.0</td>\n",
       "      <td>34.042</td>\n",
       "    </tr>\n",
       "    <tr>\n",
       "      <td>1</td>\n",
       "      <td>0</td>\n",
       "      <td>12600</td>\n",
       "      <td>103960.0</td>\n",
       "      <td>127384.0</td>\n",
       "      <td>DebtCon</td>\n",
       "      <td>NaN</td>\n",
       "      <td>2.0</td>\n",
       "      <td>0.0</td>\n",
       "      <td>0.0</td>\n",
       "      <td>129.02</td>\n",
       "      <td>0.0</td>\n",
       "      <td>25.0</td>\n",
       "      <td>34.479</td>\n",
       "    </tr>\n",
       "    <tr>\n",
       "      <td>2</td>\n",
       "      <td>0</td>\n",
       "      <td>18000</td>\n",
       "      <td>46865.0</td>\n",
       "      <td>61266.0</td>\n",
       "      <td>DebtCon</td>\n",
       "      <td>NaN</td>\n",
       "      <td>5.0</td>\n",
       "      <td>0.0</td>\n",
       "      <td>0.0</td>\n",
       "      <td>102.59</td>\n",
       "      <td>2.0</td>\n",
       "      <td>9.0</td>\n",
       "      <td>26.354</td>\n",
       "    </tr>\n",
       "    <tr>\n",
       "      <td>3</td>\n",
       "      <td>0</td>\n",
       "      <td>10300</td>\n",
       "      <td>57676.0</td>\n",
       "      <td>71027.0</td>\n",
       "      <td>DebtCon</td>\n",
       "      <td>NaN</td>\n",
       "      <td>19.0</td>\n",
       "      <td>0.0</td>\n",
       "      <td>0.0</td>\n",
       "      <td>157.52</td>\n",
       "      <td>1.0</td>\n",
       "      <td>11.0</td>\n",
       "      <td>33.992</td>\n",
       "    </tr>\n",
       "    <tr>\n",
       "      <td>4</td>\n",
       "      <td>0</td>\n",
       "      <td>9400</td>\n",
       "      <td>56508.0</td>\n",
       "      <td>78358.0</td>\n",
       "      <td>DebtCon</td>\n",
       "      <td>NaN</td>\n",
       "      <td>17.0</td>\n",
       "      <td>0.0</td>\n",
       "      <td>0.0</td>\n",
       "      <td>141.93</td>\n",
       "      <td>0.0</td>\n",
       "      <td>11.0</td>\n",
       "      <td>32.327</td>\n",
       "    </tr>\n",
       "  </tbody>\n",
       "</table>\n",
       "</div>"
      ],
      "text/plain": [
       "   bad   loan   mortdue     value   reason  job   yoj  derog  delinq   clage  \\\n",
       "0    0  81200   18834.0  108355.0  HomeImp  NaN  28.0    0.0     0.0  139.14   \n",
       "1    0  12600  103960.0  127384.0  DebtCon  NaN   2.0    0.0     0.0  129.02   \n",
       "2    0  18000   46865.0   61266.0  DebtCon  NaN   5.0    0.0     0.0  102.59   \n",
       "3    0  10300   57676.0   71027.0  DebtCon  NaN  19.0    0.0     0.0  157.52   \n",
       "4    0   9400   56508.0   78358.0  DebtCon  NaN  17.0    0.0     0.0  141.93   \n",
       "\n",
       "   ninq  clno  debtinc  \n",
       "0   0.0  14.0   34.042  \n",
       "1   0.0  25.0   34.479  \n",
       "2   2.0   9.0   26.354  \n",
       "3   1.0  11.0   33.992  \n",
       "4   0.0  11.0   32.327  "
      ]
     },
     "execution_count": 5,
     "metadata": {},
     "output_type": "execute_result"
    }
   ],
   "source": [
    "import pandas as pd\n",
    "import matplotlib.pyplot as plt\n",
    "import seaborn as sns\n",
    "data=pd.read_csv('../dataset/hmelq.csv')\n",
    "data.head()"
   ]
  },
  {
   "cell_type": "code",
   "execution_count": 6,
   "metadata": {},
   "outputs": [
    {
     "data": {
      "text/plain": [
       "bad          int64\n",
       "loan         int64\n",
       "mortdue    float64\n",
       "value      float64\n",
       "reason      object\n",
       "job         object\n",
       "yoj        float64\n",
       "derog      float64\n",
       "delinq     float64\n",
       "clage      float64\n",
       "ninq       float64\n",
       "clno       float64\n",
       "debtinc    float64\n",
       "dtype: object"
      ]
     },
     "execution_count": 6,
     "metadata": {},
     "output_type": "execute_result"
    }
   ],
   "source": [
    "data.dtypes"
   ]
  },
  {
   "cell_type": "code",
   "execution_count": 7,
   "metadata": {
    "pycharm": {
     "name": "#%%\n"
    }
   },
   "outputs": [
    {
     "data": {
      "text/plain": [
       "Index(['bad', 'loan', 'mortdue', 'value', 'reason', 'job', 'yoj', 'derog',\n",
       "       'delinq', 'clage', 'ninq', 'clno', 'debtinc'],\n",
       "      dtype='object')"
      ]
     },
     "execution_count": 7,
     "metadata": {},
     "output_type": "execute_result"
    }
   ],
   "source": [
    "columns_list=[]\n",
    "columns_list=data.columns\n",
    "columns_list"
   ]
  },
  {
   "cell_type": "code",
   "execution_count": 5,
   "metadata": {
    "pycharm": {
     "name": "#%%\n"
    }
   },
   "outputs": [
    {
     "name": "stdout",
     "output_type": "stream",
     "text": [
      "count\n",
      "0    2863\n",
      "1     713\n",
      "Name: bad, dtype: int64\n",
      "15000    65\n",
      "10000    56\n",
      "25000    50\n",
      "20000    42\n",
      "12000    33\n",
      "         ..\n",
      "59200     1\n",
      "51000     1\n",
      "46900     1\n",
      "38700     1\n",
      "2100      1\n",
      "Name: loan, Length: 474, dtype: int64\n",
      "50000.0    6\n",
      "55000.0    6\n",
      "45000.0    5\n",
      "62000.0    5\n",
      "42000.0    5\n",
      "          ..\n",
      "54045.0    1\n",
      "64804.0    1\n",
      "79185.0    1\n",
      "89226.0    1\n",
      "53504.0    1\n",
      "Name: mortdue, Length: 3095, dtype: int64\n",
      "80000.0     9\n",
      "65000.0     8\n",
      "125000.0    7\n",
      "85000.0     6\n",
      "60000.0     6\n",
      "           ..\n",
      "111287.0    1\n",
      "103430.0    1\n",
      "155688.0    1\n",
      "75446.0     1\n",
      "72704.0     1\n",
      "Name: value, Length: 3302, dtype: int64\n",
      "DebtCon    2371\n",
      "HomeImp    1058\n",
      "Name: reason, dtype: int64\n",
      "Other     1431\n",
      "ProfEx     767\n",
      "Office     569\n",
      "Mgr        461\n",
      "Self       115\n",
      "Sales       66\n",
      "Name: job, dtype: int64\n",
      "0.00    247\n",
      "1.00    223\n",
      "4.00    215\n",
      "2.00    209\n",
      "5.00    205\n",
      "       ... \n",
      "3.80      1\n",
      "7.20      1\n",
      "9.20      1\n",
      "4.30      1\n",
      "0.25      1\n",
      "Name: yoj, Length: 86, dtype: int64\n",
      "0.0     2706\n",
      "1.0      265\n",
      "2.0       98\n",
      "3.0       35\n",
      "4.0       14\n",
      "6.0       10\n",
      "5.0        8\n",
      "7.0        7\n",
      "8.0        3\n",
      "10.0       2\n",
      "9.0        1\n",
      "Name: derog, dtype: int64\n",
      "0.0     2517\n",
      "1.0      398\n",
      "2.0      142\n",
      "3.0       69\n",
      "4.0       51\n",
      "5.0       21\n",
      "6.0       15\n",
      "7.0        5\n",
      "8.0        3\n",
      "10.0       2\n",
      "15.0       1\n",
      "13.0       1\n",
      "Name: delinq, dtype: int64\n",
      "102.50    7\n",
      "177.50    5\n",
      "173.50    4\n",
      "189.70    4\n",
      "93.33     4\n",
      "         ..\n",
      "187.73    1\n",
      "86.27     1\n",
      "167.74    1\n",
      "331.11    1\n",
      "183.00    1\n",
      "Name: clage, Length: 3050, dtype: int64\n",
      "0.0     1519\n",
      "1.0      805\n",
      "2.0      469\n",
      "3.0      235\n",
      "4.0       93\n",
      "5.0       44\n",
      "6.0       34\n",
      "7.0       29\n",
      "10.0      15\n",
      "8.0       13\n",
      "9.0        8\n",
      "11.0       5\n",
      "13.0       2\n",
      "17.0       1\n",
      "12.0       1\n",
      "Name: ninq, dtype: int64\n",
      "19.0    179\n",
      "16.0    177\n",
      "24.0    162\n",
      "23.0    158\n",
      "21.0    151\n",
      "       ... \n",
      "58.0      2\n",
      "65.0      2\n",
      "57.0      1\n",
      "53.0      1\n",
      "71.0      1\n",
      "Name: clno, Length: 61, dtype: int64\n",
      "42.930    4\n",
      "32.783    3\n",
      "28.172    3\n",
      "38.188    3\n",
      "40.033    3\n",
      "         ..\n",
      "30.143    1\n",
      "39.065    1\n",
      "30.188    1\n",
      "28.362    1\n",
      "27.375    1\n",
      "Name: debtinc, Length: 2653, dtype: int64\n"
     ]
    }
   ],
   "source": [
    "print(\"count\")\n",
    "for i in range(len(columns_list)):\n",
    "      print(data[columns_list[i]].value_counts())"
   ]
  },
  {
   "cell_type": "code",
   "execution_count": 8,
   "metadata": {
    "pycharm": {
     "name": "#%%\n"
    }
   },
   "outputs": [
    {
     "name": "stdout",
     "output_type": "stream",
     "text": [
      "sum\n",
      "bad: 713\n",
      "loan: 66262200\n",
      "mortdue: 241433367.87\n",
      "value: 354982152.73\n",
      "yoj: 28829.75\n",
      "derog: 824.0\n",
      "delinq: 1395.0\n",
      "clage: 610891.1000000001\n",
      "ninq: 3883.0\n",
      "clno: 74049.0\n",
      "debtinc: 95033.35\n"
     ]
    }
   ],
   "source": [
    "print(\"sum\")\n",
    "for i in range(len(columns_list)):\n",
    "    if data[columns_list[i]].dtype =='float64' or data[columns_list[i]].dtype=='int64':\n",
    "        print(columns_list[i]+\":\",data[columns_list[i]].sum())"
   ]
  },
  {
   "cell_type": "code",
   "execution_count": 7,
   "metadata": {
    "pycharm": {
     "name": "#%%\n"
    }
   },
   "outputs": [
    {
     "name": "stdout",
     "output_type": "stream",
     "text": [
      "mean\n",
      "0.1993847874720358\n",
      "18529.697986577183\n",
      "74013.90799202943\n",
      "101076.92275911162\n",
      "8.832643995098039\n",
      "0.26167037154652273\n",
      "0.4325581395348837\n",
      "179.83252870179572\n",
      "1.186373357775741\n",
      "21.50711588730758\n",
      "33.83173727305091\n"
     ]
    }
   ],
   "source": [
    "print(\"mean\")\n",
    "for i in range(len(columns_list)):\n",
    "    if data[columns_list[i]].dtype =='float64' or data[columns_list[i]].dtype=='int64':\n",
    "        print(columns_list[i]+\":\",data[columns_list[i]].mean())"
   ]
  },
  {
   "cell_type": "code",
   "execution_count": 8,
   "metadata": {
    "pycharm": {
     "name": "#%%\n"
    }
   },
   "outputs": [
    {
     "name": "stdout",
     "output_type": "stream",
     "text": [
      "median\n",
      "0.0\n",
      "16200.0\n",
      "65858.0\n",
      "89183.0\n",
      "7.0\n",
      "0.0\n",
      "0.0\n",
      "173.64\n",
      "1.0\n",
      "20.0\n",
      "34.747\n"
     ]
    }
   ],
   "source": [
    "print(\"median\")\n",
    "for i in range(len(columns_list)):\n",
    "    if data[columns_list[i]].dtype =='float64' or data[columns_list[i]].dtype=='int64':\n",
    "        print(columns_list[i]+\":\",data[columns_list[i]].median())"
   ]
  },
  {
   "cell_type": "code",
   "execution_count": 9,
   "metadata": {
    "pycharm": {
     "name": "#%%\n"
    }
   },
   "outputs": [
    {
     "name": "stdout",
     "output_type": "stream",
     "text": [
      "mode\n",
      "bad: 0    0\n",
      "dtype: int64\n",
      "loan: 0    15000\n",
      "dtype: int64\n",
      "mortdue: 0    50000.0\n",
      "1    55000.0\n",
      "dtype: float64\n",
      "value: 0    80000.0\n",
      "dtype: float64\n",
      "yoj: 0    0.0\n",
      "dtype: float64\n",
      "derog: 0    0.0\n",
      "dtype: float64\n",
      "delinq: 0    0.0\n",
      "dtype: float64\n",
      "clage: 0    102.5\n",
      "dtype: float64\n",
      "ninq: 0    0.0\n",
      "dtype: float64\n",
      "clno: 0    19.0\n",
      "dtype: float64\n",
      "debtinc: 0    42.93\n",
      "dtype: float64\n"
     ]
    }
   ],
   "source": [
    "print(\"mode\")\n",
    "for i in range(len(columns_list)):\n",
    "    if data[columns_list[i]].dtype =='float64' or data[columns_list[i]].dtype=='int64':\n",
    "        print(columns_list[i]+\":\",data[columns_list[i]].mode())"
   ]
  },
  {
   "cell_type": "code",
   "execution_count": 10,
   "metadata": {
    "pycharm": {
     "name": "#%%\n"
    }
   },
   "outputs": [
    {
     "name": "stdout",
     "output_type": "stream",
     "text": [
      "std\n",
      "0.399593726030827\n",
      "11262.834060288802\n",
      "44016.83377190474\n",
      "54865.275351178476\n",
      "7.5680456817127535\n",
      "0.8651783339325176\n",
      "1.0992301325989071\n",
      "87.06619814867493\n",
      "1.7287225744851236\n",
      "10.167490085417352\n",
      "9.061836593148293\n"
     ]
    }
   ],
   "source": [
    "print(\"std\")\n",
    "for i in range(len(columns_list)):\n",
    "    if data[columns_list[i]].dtype =='float64' or data[columns_list[i]].dtype=='int64':\n",
    "        print(data[columns_list[i]].std())\n",
    "        "
   ]
  },
  {
   "cell_type": "code",
   "execution_count": 12,
   "metadata": {
    "pycharm": {
     "name": "#%%\n"
    }
   },
   "outputs": [
    {
     "name": "stdout",
     "output_type": "stream",
     "text": [
      "min-max\n",
      "bad: min 0 \tmax 1\n",
      "loan: min 1100 \tmax 89900\n",
      "mortdue: min 2619.0 \tmax 399550.0\n",
      "value: min 8800.0 \tmax 850000.0\n",
      "yoj: min 0.0 \tmax 41.0\n",
      "derog: min 0.0 \tmax 10.0\n",
      "delinq: min 0.0 \tmax 15.0\n",
      "clage: min 0.49 \tmax 1168.23\n",
      "ninq: min 0.0 \tmax 17.0\n",
      "clno: min 0.0 \tmax 71.0\n",
      "debtinc: min 0.72 \tmax 203.312\n"
     ]
    }
   ],
   "source": [
    "print(\"min-max\")\n",
    "for i in range(len(columns_list)):\n",
    "    if data[columns_list[i]].dtype =='float64' or data[columns_list[i]].dtype=='int64':\n",
    "        print(columns_list[i]+\":\",\"min\",data[columns_list[i]].min(),\"\\tmax\",data[columns_list[i]].max())        "
   ]
  },
  {
   "cell_type": "code",
   "execution_count": 13,
   "metadata": {
    "pycharm": {
     "name": "#%% \n"
    }
   },
   "outputs": [
    {
     "name": "stdout",
     "output_type": "stream",
     "text": [
      "abs\n",
      "0       0\n",
      "1       0\n",
      "2       0\n",
      "3       0\n",
      "4       0\n",
      "       ..\n",
      "3571    1\n",
      "3572    1\n",
      "3573    1\n",
      "3574    1\n",
      "3575    1\n",
      "Name: bad, Length: 3576, dtype: int64\n",
      "0       81200\n",
      "1       12600\n",
      "2       18000\n",
      "3       10300\n",
      "4        9400\n",
      "        ...  \n",
      "3571     8400\n",
      "3572    21600\n",
      "3573    24000\n",
      "3574    10000\n",
      "3575     5900\n",
      "Name: loan, Length: 3576, dtype: int64\n",
      "0        18834.0\n",
      "1       103960.0\n",
      "2        46865.0\n",
      "3        57676.0\n",
      "4        56508.0\n",
      "          ...   \n",
      "3571     31800.0\n",
      "3572    154991.0\n",
      "3573     35000.0\n",
      "3574         NaN\n",
      "3575         NaN\n",
      "Name: mortdue, Length: 3576, dtype: float64\n",
      "0       108355.0\n",
      "1       127384.0\n",
      "2        61266.0\n",
      "3        71027.0\n",
      "4        78358.0\n",
      "          ...   \n",
      "3571     72000.0\n",
      "3572         NaN\n",
      "3573         NaN\n",
      "3574     25010.0\n",
      "3575     28000.0\n",
      "Name: value, Length: 3576, dtype: float64\n",
      "0       28.0\n",
      "1        2.0\n",
      "2        5.0\n",
      "3       19.0\n",
      "4       17.0\n",
      "        ... \n",
      "3571     NaN\n",
      "3572     NaN\n",
      "3573     3.0\n",
      "3574     5.0\n",
      "3575     1.0\n",
      "Name: yoj, Length: 3576, dtype: float64\n",
      "0       0.0\n",
      "1       0.0\n",
      "2       0.0\n",
      "3       0.0\n",
      "4       0.0\n",
      "       ... \n",
      "3571    0.0\n",
      "3572    2.0\n",
      "3573    1.0\n",
      "3574    0.0\n",
      "3575    2.0\n",
      "Name: derog, Length: 3576, dtype: float64\n",
      "0       0.0\n",
      "1       0.0\n",
      "2       0.0\n",
      "3       0.0\n",
      "4       0.0\n",
      "       ... \n",
      "3571    2.0\n",
      "3572    4.0\n",
      "3573    0.0\n",
      "3574    3.0\n",
      "3575    1.0\n",
      "Name: delinq, Length: 3576, dtype: float64\n",
      "0       139.14\n",
      "1       129.02\n",
      "2       102.59\n",
      "3       157.52\n",
      "4       141.93\n",
      "         ...  \n",
      "3571    187.27\n",
      "3572    165.60\n",
      "3573    177.50\n",
      "3574    326.13\n",
      "3575     36.77\n",
      "Name: clage, Length: 3576, dtype: float64\n",
      "0       0.0\n",
      "1       0.0\n",
      "2       2.0\n",
      "3       1.0\n",
      "4       0.0\n",
      "       ... \n",
      "3571    1.0\n",
      "3572    0.0\n",
      "3573    0.0\n",
      "3574    4.0\n",
      "3575    1.0\n",
      "Name: ninq, Length: 3576, dtype: float64\n",
      "0       14.0\n",
      "1       25.0\n",
      "2        9.0\n",
      "3       11.0\n",
      "4       11.0\n",
      "        ... \n",
      "3571    21.0\n",
      "3572    43.0\n",
      "3573    16.0\n",
      "3574    17.0\n",
      "3575     8.0\n",
      "Name: clno, Length: 3576, dtype: float64\n",
      "0       34.042\n",
      "1       34.479\n",
      "2       26.354\n",
      "3       33.992\n",
      "4       32.327\n",
      "         ...  \n",
      "3571       NaN\n",
      "3572    38.015\n",
      "3573       NaN\n",
      "3574       NaN\n",
      "3575       NaN\n",
      "Name: debtinc, Length: 3576, dtype: float64\n"
     ]
    }
   ],
   "source": [
    "print(\"abs\")\n",
    "for i in range(len(columns_list)):\n",
    "    if data[columns_list[i]].dtype =='float64' or data[columns_list[i]].dtype=='int64':\n",
    "        print(data[columns_list[i]].abs())"
   ]
  },
  {
   "cell_type": "code",
   "execution_count": 22,
   "metadata": {
    "pycharm": {
     "name": "#%%\n"
    }
   },
   "outputs": [
    {
     "name": "stdout",
     "output_type": "stream",
     "text": [
      "prod\n",
      "bad: 0\n",
      "loan: 0\n",
      "mortdue: inf\n",
      "value: inf\n",
      "yoj: 0.0\n",
      "derog: 0.0\n",
      "delinq: 0.0\n",
      "clage: inf\n",
      "ninq: 0.0\n",
      "clno: 0.0\n",
      "debtinc: inf\n"
     ]
    }
   ],
   "source": [
    "print(\"prod\")\n",
    "for i in range(len(columns_list)):\n",
    "    if data[columns_list[i]].dtype =='float64' or data[columns_list[i]].dtype=='int64':\n",
    "        print(columns_list[i]+\":\",data[columns_list[i]].prod())"
   ]
  },
  {
   "cell_type": "code",
   "execution_count": 24,
   "metadata": {
    "pycharm": {
     "name": "#%%\n"
    }
   },
   "outputs": [
    {
     "name": "stdout",
     "output_type": "stream",
     "text": [
      "cumsum\n",
      "0         0\n",
      "1         0\n",
      "2         0\n",
      "3         0\n",
      "4         0\n",
      "       ... \n",
      "3571    709\n",
      "3572    710\n",
      "3573    711\n",
      "3574    712\n",
      "3575    713\n",
      "Name: bad, Length: 3576, dtype: int64\n",
      "0          81200\n",
      "1          93800\n",
      "2         111800\n",
      "3         122100\n",
      "4         131500\n",
      "          ...   \n",
      "3571    66200700\n",
      "3572    66222300\n",
      "3573    66246300\n",
      "3574    66256300\n",
      "3575    66262200\n",
      "Name: loan, Length: 3576, dtype: int64\n",
      "0       1.883400e+04\n",
      "1       1.227940e+05\n",
      "2       1.696590e+05\n",
      "3       2.273350e+05\n",
      "4       2.838430e+05\n",
      "            ...     \n",
      "3571    2.412434e+08\n",
      "3572    2.413984e+08\n",
      "3573    2.414334e+08\n",
      "3574             NaN\n",
      "3575             NaN\n",
      "Name: mortdue, Length: 3576, dtype: float64\n",
      "0       1.083550e+05\n",
      "1       2.357390e+05\n",
      "2       2.970050e+05\n",
      "3       3.680320e+05\n",
      "4       4.463900e+05\n",
      "            ...     \n",
      "3571    3.549291e+08\n",
      "3572             NaN\n",
      "3573             NaN\n",
      "3574    3.549542e+08\n",
      "3575    3.549822e+08\n",
      "Name: value, Length: 3576, dtype: float64\n",
      "0          28.00\n",
      "1          30.00\n",
      "2          35.00\n",
      "3          54.00\n",
      "4          71.00\n",
      "          ...   \n",
      "3571         NaN\n",
      "3572         NaN\n",
      "3573    28823.75\n",
      "3574    28828.75\n",
      "3575    28829.75\n",
      "Name: yoj, Length: 3576, dtype: float64\n",
      "0         0.0\n",
      "1         0.0\n",
      "2         0.0\n",
      "3         0.0\n",
      "4         0.0\n",
      "        ...  \n",
      "3571    819.0\n",
      "3572    821.0\n",
      "3573    822.0\n",
      "3574    822.0\n",
      "3575    824.0\n",
      "Name: derog, Length: 3576, dtype: float64\n",
      "0          0.0\n",
      "1          0.0\n",
      "2          0.0\n",
      "3          0.0\n",
      "4          0.0\n",
      "         ...  \n",
      "3571    1387.0\n",
      "3572    1391.0\n",
      "3573    1391.0\n",
      "3574    1394.0\n",
      "3575    1395.0\n",
      "Name: delinq, Length: 3576, dtype: float64\n",
      "0          139.14\n",
      "1          268.16\n",
      "2          370.75\n",
      "3          528.27\n",
      "4          670.20\n",
      "          ...    \n",
      "3571    610185.10\n",
      "3572    610350.70\n",
      "3573    610528.20\n",
      "3574    610854.33\n",
      "3575    610891.10\n",
      "Name: clage, Length: 3576, dtype: float64\n",
      "0          0.0\n",
      "1          0.0\n",
      "2          2.0\n",
      "3          3.0\n",
      "4          3.0\n",
      "         ...  \n",
      "3571    3878.0\n",
      "3572    3878.0\n",
      "3573    3878.0\n",
      "3574    3882.0\n",
      "3575    3883.0\n",
      "Name: ninq, Length: 3576, dtype: float64\n",
      "0          14.0\n",
      "1          39.0\n",
      "2          48.0\n",
      "3          59.0\n",
      "4          70.0\n",
      "         ...   \n",
      "3571    73965.0\n",
      "3572    74008.0\n",
      "3573    74024.0\n",
      "3574    74041.0\n",
      "3575    74049.0\n",
      "Name: clno, Length: 3576, dtype: float64\n",
      "0          34.042\n",
      "1          68.521\n",
      "2          94.875\n",
      "3         128.867\n",
      "4         161.194\n",
      "          ...    \n",
      "3571          NaN\n",
      "3572    95033.350\n",
      "3573          NaN\n",
      "3574          NaN\n",
      "3575          NaN\n",
      "Name: debtinc, Length: 3576, dtype: float64\n"
     ]
    }
   ],
   "source": [
    "print(\"cumsum\")\n",
    "for i in range(len(columns_list)):\n",
    "    if data[columns_list[i]].dtype =='float64' or data[columns_list[i]].dtype=='int64':\n",
    "        print(data[columns_list[i]].cumsum())"
   ]
  },
  {
   "cell_type": "code",
   "execution_count": 15,
   "metadata": {
    "pycharm": {
     "name": "#%%\n"
    }
   },
   "outputs": [
    {
     "name": "stdout",
     "output_type": "stream",
     "text": [
      "cumprod\n",
      "0       0\n",
      "1       0\n",
      "2       0\n",
      "3       0\n",
      "4       0\n",
      "       ..\n",
      "3571    0\n",
      "3572    0\n",
      "3573    0\n",
      "3574    0\n",
      "3575    0\n",
      "Name: bad, Length: 3576, dtype: int64\n",
      "0                     81200\n",
      "1                1023120000\n",
      "2            18416160000000\n",
      "3        189686448000000000\n",
      "4      -6281563949826506752\n",
      "               ...         \n",
      "3571                      0\n",
      "3572                      0\n",
      "3573                      0\n",
      "3574                      0\n",
      "3575                      0\n",
      "Name: loan, Length: 3576, dtype: int64\n",
      "0       1.883400e+04\n",
      "1       1.957983e+09\n",
      "2       9.176086e+13\n",
      "3       5.292399e+18\n",
      "4       2.990629e+23\n",
      "            ...     \n",
      "3571             inf\n",
      "3572             inf\n",
      "3573             inf\n",
      "3574             NaN\n",
      "3575             NaN\n",
      "Name: mortdue, Length: 3576, dtype: float64\n",
      "0       1.083550e+05\n",
      "1       1.380269e+10\n",
      "2       8.456358e+14\n",
      "3       6.006297e+19\n",
      "4       4.706415e+24\n",
      "            ...     \n",
      "3571             inf\n",
      "3572             NaN\n",
      "3573             NaN\n",
      "3574             inf\n",
      "3575             inf\n",
      "Name: value, Length: 3576, dtype: float64\n",
      "0          28.0\n",
      "1          56.0\n",
      "2         280.0\n",
      "3        5320.0\n",
      "4       90440.0\n",
      "         ...   \n",
      "3571        NaN\n",
      "3572        NaN\n",
      "3573        0.0\n",
      "3574        0.0\n",
      "3575        0.0\n",
      "Name: yoj, Length: 3576, dtype: float64\n",
      "0       0.0\n",
      "1       0.0\n",
      "2       0.0\n",
      "3       0.0\n",
      "4       0.0\n",
      "       ... \n",
      "3571    0.0\n",
      "3572    0.0\n",
      "3573    0.0\n",
      "3574    0.0\n",
      "3575    0.0\n",
      "Name: derog, Length: 3576, dtype: float64\n",
      "0       0.0\n",
      "1       0.0\n",
      "2       0.0\n",
      "3       0.0\n",
      "4       0.0\n",
      "       ... \n",
      "3571    0.0\n",
      "3572    0.0\n",
      "3573    0.0\n",
      "3574    0.0\n",
      "3575    0.0\n",
      "Name: delinq, Length: 3576, dtype: float64\n",
      "0       1.391400e+02\n",
      "1       1.795184e+04\n",
      "2       1.841680e+06\n",
      "3       2.901014e+08\n",
      "4       4.117409e+10\n",
      "            ...     \n",
      "3571             inf\n",
      "3572             inf\n",
      "3573             inf\n",
      "3574             inf\n",
      "3575             inf\n",
      "Name: clage, Length: 3576, dtype: float64\n",
      "0       0.0\n",
      "1       0.0\n",
      "2       0.0\n",
      "3       0.0\n",
      "4       0.0\n",
      "       ... \n",
      "3571    0.0\n",
      "3572    0.0\n",
      "3573    0.0\n",
      "3574    0.0\n",
      "3575    0.0\n",
      "Name: ninq, Length: 3576, dtype: float64\n",
      "0           14.0\n",
      "1          350.0\n",
      "2         3150.0\n",
      "3        34650.0\n",
      "4       381150.0\n",
      "          ...   \n",
      "3571         0.0\n",
      "3572         0.0\n",
      "3573         0.0\n",
      "3574         0.0\n",
      "3575         0.0\n",
      "Name: clno, Length: 3576, dtype: float64\n",
      "0       3.404200e+01\n",
      "1       1.173734e+03\n",
      "2       3.093259e+04\n",
      "3       1.051461e+06\n",
      "4       3.399057e+07\n",
      "            ...     \n",
      "3571             NaN\n",
      "3572             inf\n",
      "3573             NaN\n",
      "3574             NaN\n",
      "3575             NaN\n",
      "Name: debtinc, Length: 3576, dtype: float64\n"
     ]
    }
   ],
   "source": [
    "print(\"cumprod\")\n",
    "for i in range(len(columns_list)):\n",
    "    if data[columns_list[i]].dtype =='float64' or data[columns_list[i]].dtype=='int64':\n",
    "        print(data[columns_list[i]].cumprod())"
   ]
  },
  {
   "cell_type": "code",
   "execution_count": 26,
   "metadata": {
    "pycharm": {
     "name": "#%%\n"
    }
   },
   "outputs": [
    {
     "data": {
      "text/html": [
       "<div>\n",
       "<style scoped>\n",
       "    .dataframe tbody tr th:only-of-type {\n",
       "        vertical-align: middle;\n",
       "    }\n",
       "\n",
       "    .dataframe tbody tr th {\n",
       "        vertical-align: top;\n",
       "    }\n",
       "\n",
       "    .dataframe thead th {\n",
       "        text-align: right;\n",
       "    }\n",
       "</style>\n",
       "<table border=\"1\" class=\"dataframe\">\n",
       "  <thead>\n",
       "    <tr style=\"text-align: right;\">\n",
       "      <th></th>\n",
       "      <th>bad</th>\n",
       "      <th>loan</th>\n",
       "      <th>mortdue</th>\n",
       "      <th>value</th>\n",
       "      <th>yoj</th>\n",
       "      <th>derog</th>\n",
       "      <th>delinq</th>\n",
       "      <th>clage</th>\n",
       "      <th>ninq</th>\n",
       "      <th>clno</th>\n",
       "      <th>debtinc</th>\n",
       "    </tr>\n",
       "  </thead>\n",
       "  <tbody>\n",
       "    <tr>\n",
       "      <td>count</td>\n",
       "      <td>3576.000000</td>\n",
       "      <td>3576.000000</td>\n",
       "      <td>3262.000000</td>\n",
       "      <td>3512.000000</td>\n",
       "      <td>3264.000000</td>\n",
       "      <td>3149.000000</td>\n",
       "      <td>3225.000000</td>\n",
       "      <td>3397.000000</td>\n",
       "      <td>3273.000000</td>\n",
       "      <td>3443.000000</td>\n",
       "      <td>2809.000000</td>\n",
       "    </tr>\n",
       "    <tr>\n",
       "      <td>mean</td>\n",
       "      <td>0.199385</td>\n",
       "      <td>18529.697987</td>\n",
       "      <td>74013.907992</td>\n",
       "      <td>101076.922759</td>\n",
       "      <td>8.832644</td>\n",
       "      <td>0.261670</td>\n",
       "      <td>0.432558</td>\n",
       "      <td>179.832529</td>\n",
       "      <td>1.186373</td>\n",
       "      <td>21.507116</td>\n",
       "      <td>33.831737</td>\n",
       "    </tr>\n",
       "    <tr>\n",
       "      <td>std</td>\n",
       "      <td>0.399594</td>\n",
       "      <td>11262.834060</td>\n",
       "      <td>44016.833772</td>\n",
       "      <td>54865.275351</td>\n",
       "      <td>7.568046</td>\n",
       "      <td>0.865178</td>\n",
       "      <td>1.099230</td>\n",
       "      <td>87.066198</td>\n",
       "      <td>1.728723</td>\n",
       "      <td>10.167490</td>\n",
       "      <td>9.061837</td>\n",
       "    </tr>\n",
       "    <tr>\n",
       "      <td>min</td>\n",
       "      <td>0.000000</td>\n",
       "      <td>1100.000000</td>\n",
       "      <td>2619.000000</td>\n",
       "      <td>8800.000000</td>\n",
       "      <td>0.000000</td>\n",
       "      <td>0.000000</td>\n",
       "      <td>0.000000</td>\n",
       "      <td>0.490000</td>\n",
       "      <td>0.000000</td>\n",
       "      <td>0.000000</td>\n",
       "      <td>0.720000</td>\n",
       "    </tr>\n",
       "    <tr>\n",
       "      <td>25%</td>\n",
       "      <td>0.000000</td>\n",
       "      <td>11000.000000</td>\n",
       "      <td>46700.250000</td>\n",
       "      <td>65753.000000</td>\n",
       "      <td>3.000000</td>\n",
       "      <td>0.000000</td>\n",
       "      <td>0.000000</td>\n",
       "      <td>115.600000</td>\n",
       "      <td>0.000000</td>\n",
       "      <td>15.000000</td>\n",
       "      <td>29.140000</td>\n",
       "    </tr>\n",
       "    <tr>\n",
       "      <td>50%</td>\n",
       "      <td>0.000000</td>\n",
       "      <td>16200.000000</td>\n",
       "      <td>65858.000000</td>\n",
       "      <td>89183.000000</td>\n",
       "      <td>7.000000</td>\n",
       "      <td>0.000000</td>\n",
       "      <td>0.000000</td>\n",
       "      <td>173.640000</td>\n",
       "      <td>1.000000</td>\n",
       "      <td>20.000000</td>\n",
       "      <td>34.747000</td>\n",
       "    </tr>\n",
       "    <tr>\n",
       "      <td>75%</td>\n",
       "      <td>0.000000</td>\n",
       "      <td>23100.000000</td>\n",
       "      <td>91717.000000</td>\n",
       "      <td>118928.250000</td>\n",
       "      <td>13.000000</td>\n",
       "      <td>0.000000</td>\n",
       "      <td>0.000000</td>\n",
       "      <td>230.710000</td>\n",
       "      <td>2.000000</td>\n",
       "      <td>26.000000</td>\n",
       "      <td>38.940000</td>\n",
       "    </tr>\n",
       "    <tr>\n",
       "      <td>max</td>\n",
       "      <td>1.000000</td>\n",
       "      <td>89900.000000</td>\n",
       "      <td>399550.000000</td>\n",
       "      <td>850000.000000</td>\n",
       "      <td>41.000000</td>\n",
       "      <td>10.000000</td>\n",
       "      <td>15.000000</td>\n",
       "      <td>1168.230000</td>\n",
       "      <td>17.000000</td>\n",
       "      <td>71.000000</td>\n",
       "      <td>203.312000</td>\n",
       "    </tr>\n",
       "  </tbody>\n",
       "</table>\n",
       "</div>"
      ],
      "text/plain": [
       "               bad          loan        mortdue          value          yoj  \\\n",
       "count  3576.000000   3576.000000    3262.000000    3512.000000  3264.000000   \n",
       "mean      0.199385  18529.697987   74013.907992  101076.922759     8.832644   \n",
       "std       0.399594  11262.834060   44016.833772   54865.275351     7.568046   \n",
       "min       0.000000   1100.000000    2619.000000    8800.000000     0.000000   \n",
       "25%       0.000000  11000.000000   46700.250000   65753.000000     3.000000   \n",
       "50%       0.000000  16200.000000   65858.000000   89183.000000     7.000000   \n",
       "75%       0.000000  23100.000000   91717.000000  118928.250000    13.000000   \n",
       "max       1.000000  89900.000000  399550.000000  850000.000000    41.000000   \n",
       "\n",
       "             derog       delinq        clage         ninq         clno  \\\n",
       "count  3149.000000  3225.000000  3397.000000  3273.000000  3443.000000   \n",
       "mean      0.261670     0.432558   179.832529     1.186373    21.507116   \n",
       "std       0.865178     1.099230    87.066198     1.728723    10.167490   \n",
       "min       0.000000     0.000000     0.490000     0.000000     0.000000   \n",
       "25%       0.000000     0.000000   115.600000     0.000000    15.000000   \n",
       "50%       0.000000     0.000000   173.640000     1.000000    20.000000   \n",
       "75%       0.000000     0.000000   230.710000     2.000000    26.000000   \n",
       "max      10.000000    15.000000  1168.230000    17.000000    71.000000   \n",
       "\n",
       "           debtinc  \n",
       "count  2809.000000  \n",
       "mean     33.831737  \n",
       "std       9.061837  \n",
       "min       0.720000  \n",
       "25%      29.140000  \n",
       "50%      34.747000  \n",
       "75%      38.940000  \n",
       "max     203.312000  "
      ]
     },
     "execution_count": 26,
     "metadata": {},
     "output_type": "execute_result"
    }
   ],
   "source": [
    "data.describe()"
   ]
  },
  {
   "cell_type": "code",
   "execution_count": 33,
   "metadata": {
    "pycharm": {
     "name": "#%%\n"
    }
   },
   "outputs": [
    {
     "data": {
      "text/plain": [
       "<matplotlib.axes._subplots.AxesSubplot at 0x7f9fae296908>"
      ]
     },
     "execution_count": 33,
     "metadata": {},
     "output_type": "execute_result"
    },
    {
     "data": {
      "image/png": "[encoded data removed]",
      "text/plain": [
       "<Figure size 864x648 with 2 Axes>"
      ]
     },
     "metadata": {
      "needs_background": "light"
     },
     "output_type": "display_data"
    }
   ],
   "source": [
    "f,ax = plt.subplots(figsize=(12,9))\n",
    "sns.heatmap(data.corr(), annot=True, linewidths=.5,fmt=\".1f\", ax=ax)#verileri correlation görsellestirme"
   ]
  },
  {
   "cell_type": "code",
   "execution_count": 18,
   "metadata": {
    "pycharm": {
     "name": "#%%\n"
    }
   },
   "outputs": [
    {
     "data": {
      "image/png": "[encoded data removed]",
      "text/plain": [
       "<Figure size 288x288 with 1 Axes>"
      ]
     },
     "metadata": {
      "needs_background": "light"
     },
     "output_type": "display_data"
    }
   ],
   "source": [
    "plt.matshow(data.corr())\n",
    "plt.show()"
   ]
  },
  {
   "cell_type": "code",
   "execution_count": 19,
   "metadata": {
    "pycharm": {
     "name": "#%%\n"
    }
   },
   "outputs": [
    {
     "data": {
      "image/png": "[encoded data removed]",
      "text/plain": [
       "<Figure size 432x288 with 1 Axes>"
      ]
     },
     "metadata": {
      "needs_background": "light"
     },
     "output_type": "display_data"
    },
    {
     "data": {
      "image/png": "[encoded data removed]",
      "text/plain": [
       "<Figure size 432x288 with 1 Axes>"
      ]
     },
     "metadata": {
      "needs_background": "light"
     },
     "output_type": "display_data"
    },
    {
     "data": {
      "image/png": "[encoded data removed]",
      "text/plain": [
       "<Figure size 432x288 with 1 Axes>"
      ]
     },
     "metadata": {
      "needs_background": "light"
     },
     "output_type": "display_data"
    },
    {
     "data": {
      "image/png": "[encoded data removed]",
      "text/plain": [
       "<Figure size 432x288 with 1 Axes>"
      ]
     },
     "metadata": {
      "needs_background": "light"
     },
     "output_type": "display_data"
    },
    {
     "data": {
      "image/png": "[encoded data removed]",
      "text/plain": [
       "<Figure size 432x288 with 1 Axes>"
      ]
     },
     "metadata": {
      "needs_background": "light"
     },
     "output_type": "display_data"
    },
    {
     "data": {
      "image/png": "[encoded data removed]",
      "text/plain": [
       "<Figure size 432x288 with 1 Axes>"
      ]
     },
     "metadata": {
      "needs_background": "light"
     },
     "output_type": "display_data"
    },
    {
     "data": {
      "image/png": "[encoded data removed]",
      "text/plain": [
       "<Figure size 432x288 with 1 Axes>"
      ]
     },
     "metadata": {
      "needs_background": "light"
     },
     "output_type": "display_data"
    },
    {
     "data": {
      "image/png": "[encoded data removed]",
      "text/plain": [
       "<Figure size 432x288 with 1 Axes>"
      ]
     },
     "metadata": {
      "needs_background": "light"
     },
     "output_type": "display_data"
    },
    {
     "data": {
      "image/png": "[encoded data removed]",
      "text/plain": [
       "<Figure size 432x288 with 1 Axes>"
      ]
     },
     "metadata": {
      "needs_background": "light"
     },
     "output_type": "display_data"
    },
    {
     "data": {
      "image/png": "[encoded data removed]",
      "text/plain": [
       "<Figure size 432x288 with 1 Axes>"
      ]
     },
     "metadata": {
      "needs_background": "light"
     },
     "output_type": "display_data"
    }
   ],
   "source": [
    "for i in range(1,len(columns_list)):\n",
    "    if data[columns_list[i]].dtype =='float64' or data[columns_list[i]].dtype=='int64':\n",
    "        data.boxplot(column=['bad',columns_list[i]])\n",
    "        plt.show()"
   ]
  },
  {
   "cell_type": "code",
   "execution_count": 20,
   "metadata": {
    "pycharm": {
     "name": "#%%\n"
    }
   },
   "outputs": [
    {
     "data": {
      "image/png": "[encoded data removed]",
      "text/plain": [
       "<Figure size 432x288 with 1 Axes>"
      ]
     },
     "metadata": {
      "needs_background": "light"
     },
     "output_type": "display_data"
    },
    {
     "data": {
      "image/png": "[encoded data removed]",
      "text/plain": [
       "<Figure size 432x288 with 1 Axes>"
      ]
     },
     "metadata": {
      "needs_background": "light"
     },
     "output_type": "display_data"
    },
    {
     "data": {
      "image/png": "[encoded data removed]",
      "text/plain": [
       "<Figure size 432x288 with 1 Axes>"
      ]
     },
     "metadata": {
      "needs_background": "light"
     },
     "output_type": "display_data"
    },
    {
     "data": {
      "image/png": "[encoded data removed]",
      "text/plain": [
       "<Figure size 432x288 with 1 Axes>"
      ]
     },
     "metadata": {
      "needs_background": "light"
     },
     "output_type": "display_data"
    },
    {
     "data": {
      "image/png": "[encoded data removed]",
      "text/plain": [
       "<Figure size 432x288 with 1 Axes>"
      ]
     },
     "metadata": {
      "needs_background": "light"
     },
     "output_type": "display_data"
    },
    {
     "data": {
      "image/png": "[encoded data removed]",
      "text/plain": [
       "<Figure size 432x288 with 1 Axes>"
      ]
     },
     "metadata": {
      "needs_background": "light"
     },
     "output_type": "display_data"
    },
    {
     "data": {
      "image/png": "[encoded data removed]",
      "text/plain": [
       "<Figure size 432x288 with 1 Axes>"
      ]
     },
     "metadata": {
      "needs_background": "light"
     },
     "output_type": "display_data"
    },
    {
     "data": {
      "image/png": "[encoded data removed]",
      "text/plain": [
       "<Figure size 432x288 with 1 Axes>"
      ]
     },
     "metadata": {
      "needs_background": "light"
     },
     "output_type": "display_data"
    },
    {
     "data": {
      "image/png": "[encoded data removed]",
      "text/plain": [
       "<Figure size 432x288 with 1 Axes>"
      ]
     },
     "metadata": {
      "needs_background": "light"
     },
     "output_type": "display_data"
    },
    {
     "data": {
      "image/png": "[encoded data removed]",
      "text/plain": [
       "<Figure size 432x288 with 1 Axes>"
      ]
     },
     "metadata": {
      "needs_background": "light"
     },
     "output_type": "display_data"
    },
    {
     "data": {
      "image/png": "[encoded data removed]",
      "text/plain": [
       "<Figure size 432x288 with 1 Axes>"
      ]
     },
     "metadata": {
      "needs_background": "light"
     },
     "output_type": "display_data"
    },
    {
     "data": {
      "image/png": "[encoded data removed]",
      "text/plain": [
       "<Figure size 432x288 with 1 Axes>"
      ]
     },
     "metadata": {
      "needs_background": "light"
     },
     "output_type": "display_data"
    }
   ],
   "source": [
    "for i in range(1,len(columns_list)):\n",
    "    fig, ax = plt.subplots()\n",
    "    if data[columns_list[i]].dtype =='float64' or data[columns_list[i]].dtype=='int64':\n",
    "        plt.scatter(data['bad'],data[columns_list[i]])\n",
    "        ax.set_xlabel('bad')\n",
    "        ax.set_ylabel(columns_list[i])\n",
    "        plt.show()"
   ]
  },
  {
   "cell_type": "code",
   "execution_count": 21,
   "metadata": {
    "pycharm": {
     "name": "#%%\n"
    }
   },
   "outputs": [
    {
     "data": {
      "image/png": "[encoded data removed]",
      "text/plain": [
       "<Figure size 432x288 with 1 Axes>"
      ]
     },
     "metadata": {
      "needs_background": "light"
     },
     "output_type": "display_data"
    },
    {
     "data": {
      "image/png": "[encoded data removed]",
      "text/plain": [
       "<Figure size 432x288 with 1 Axes>"
      ]
     },
     "metadata": {
      "needs_background": "light"
     },
     "output_type": "display_data"
    },
    {
     "name": "stderr",
     "output_type": "stream",
     "text": [
      "/home/utkuglsvn/PycharmProjects/AnkaraMlBootcamp/venv/lib/python3.7/site-packages/numpy/lib/histograms.py:829: RuntimeWarning: invalid value encountered in greater_equal\n",
      "  keep = (tmp_a >= first_edge)\n",
      "/home/utkuglsvn/PycharmProjects/AnkaraMlBootcamp/venv/lib/python3.7/site-packages/numpy/lib/histograms.py:830: RuntimeWarning: invalid value encountered in less_equal\n",
      "  keep &= (tmp_a <= last_edge)\n"
     ]
    },
    {
     "data": {
      "image/png": "[encoded data removed]",
      "text/plain": [
       "<Figure size 432x288 with 1 Axes>"
      ]
     },
     "metadata": {
      "needs_background": "light"
     },
     "output_type": "display_data"
    },
    {
     "data": {
      "image/png": "[encoded data removed]",
      "text/plain": [
       "<Figure size 432x288 with 1 Axes>"
      ]
     },
     "metadata": {
      "needs_background": "light"
     },
     "output_type": "display_data"
    },
    {
     "data": {
      "image/png": "[encoded data removed]",
      "text/plain": [
       "<Figure size 432x288 with 1 Axes>"
      ]
     },
     "metadata": {
      "needs_background": "light"
     },
     "output_type": "display_data"
    },
    {
     "data": {
      "image/png": "[encoded data removed]",
      "text/plain": [
       "<Figure size 432x288 with 1 Axes>"
      ]
     },
     "metadata": {
      "needs_background": "light"
     },
     "output_type": "display_data"
    },
    {
     "data": {
      "image/png": "[encoded data removed]",
      "text/plain": [
       "<Figure size 432x288 with 1 Axes>"
      ]
     },
     "metadata": {
      "needs_background": "light"
     },
     "output_type": "display_data"
    },
    {
     "data": {
      "image/png": "[encoded data removed]",
      "text/plain": [
       "<Figure size 432x288 with 1 Axes>"
      ]
     },
     "metadata": {
      "needs_background": "light"
     },
     "output_type": "display_data"
    },
    {
     "data": {
      "image/png": "[encoded data removed]",
      "text/plain": [
       "<Figure size 432x288 with 1 Axes>"
      ]
     },
     "metadata": {
      "needs_background": "light"
     },
     "output_type": "display_data"
    },
    {
     "data": {
      "image/png": "[encoded data removed]",
      "text/plain": [
       "<Figure size 432x288 with 1 Axes>"
      ]
     },
     "metadata": {
      "needs_background": "light"
     },
     "output_type": "display_data"
    },
    {
     "data": {
      "image/png": "[encoded data removed]",
      "text/plain": [
       "<Figure size 432x288 with 1 Axes>"
      ]
     },
     "metadata": {
      "needs_background": "light"
     },
     "output_type": "display_data"
    },
    {
     "data": {
      "image/png": "[encoded data removed]",
      "text/plain": [
       "<Figure size 432x288 with 1 Axes>"
      ]
     },
     "metadata": {
      "needs_background": "light"
     },
     "output_type": "display_data"
    },
    {
     "data": {
      "image/png": "[encoded data removed]",
      "text/plain": [
       "<Figure size 432x288 with 1 Axes>"
      ]
     },
     "metadata": {
      "needs_background": "light"
     },
     "output_type": "display_data"
    }
   ],
   "source": [
    "for i in range(len(columns_list)):\n",
    "    fig, ax = plt.subplots()\n",
    "    if data[columns_list[i]].dtype =='float64' or data[columns_list[i]].dtype=='int64':\n",
    "        plt.hist(data[columns_list[i]],color='g')\n",
    "        ax.set_ylabel(columns_list[i])\n",
    "        plt.show()"
   ]
  },
  {
   "cell_type": "code",
   "execution_count": 22,
   "metadata": {
    "pycharm": {
     "name": "#%%\n"
    }
   },
   "outputs": [
    {
     "data": {
      "text/html": [
       "<div>\n",
       "<style scoped>\n",
       "    .dataframe tbody tr th:only-of-type {\n",
       "        vertical-align: middle;\n",
       "    }\n",
       "\n",
       "    .dataframe tbody tr th {\n",
       "        vertical-align: top;\n",
       "    }\n",
       "\n",
       "    .dataframe thead th {\n",
       "        text-align: right;\n",
       "    }\n",
       "</style>\n",
       "<table border=\"1\" class=\"dataframe\">\n",
       "  <thead>\n",
       "    <tr style=\"text-align: right;\">\n",
       "      <th>reason</th>\n",
       "      <th>DebtCon</th>\n",
       "      <th>HomeImp</th>\n",
       "    </tr>\n",
       "  </thead>\n",
       "  <tbody>\n",
       "    <tr>\n",
       "      <td>1</td>\n",
       "      <td>1931</td>\n",
       "      <td>814</td>\n",
       "    </tr>\n",
       "    <tr>\n",
       "      <td>0</td>\n",
       "      <td>440</td>\n",
       "      <td>244</td>\n",
       "    </tr>\n",
       "  </tbody>\n",
       "</table>\n",
       "</div>"
      ],
      "text/plain": [
       "reason  DebtCon  HomeImp\n",
       "1          1931      814\n",
       "0           440      244"
      ]
     },
     "execution_count": 22,
     "metadata": {},
     "output_type": "execute_result"
    }
   ],
   "source": [
    "new_data=pd.crosstab(index=data['bad'],columns=data['reason'])\n",
    "new_data.index = [\"1\",\"0\"]\n",
    "new_data"
   ]
  }
 ],
 "metadata": {
  "kernelspec": {
   "display_name": "Python 3",
   "language": "python",
   "name": "python3"
  },
  "language_info": {
   "codemirror_mode": {
    "name": "ipython",
    "version": 3
   },
   "file_extension": ".py",
   "mimetype": "text/x-python",
   "name": "python",
   "nbconvert_exporter": "python",
   "pygments_lexer": "ipython3",
   "version": "3.7.3"
  },
  "pycharm": {
   "stem_cell": {
    "cell_type": "raw",
    "source": [],
    "metadata": {
     "collapsed": false
    }
   }
  }
 },
 "nbformat": 4,
 "nbformat_minor": 1
}